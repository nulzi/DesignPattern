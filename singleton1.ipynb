{
 "cells": [
  {
   "cell_type": "code",
   "execution_count": 2,
   "metadata": {},
   "outputs": [
    {
     "name": "stdout",
     "output_type": "stream",
     "text": [
      "__new__ is called\n",
      "\n",
      "__init__ is called\n",
      "\n",
      "<__main__.Foo object at 0x0000018B555A46D0>\n"
     ]
    }
   ],
   "source": [
    "class Foo(object):\n",
    "    def __new__(cls, *args, **kwargs):\n",
    "        print(\"__new__ is called\\n\")\n",
    "        instance = super().__new__(cls)\n",
    "        return instance\n",
    "\n",
    "    def __init__(self):\n",
    "        print(\"__init__ is called\\n\")\n",
    "\n",
    "\n",
    "s = Foo()\n",
    "print(s)"
   ]
  },
  {
   "cell_type": "code",
   "execution_count": 3,
   "metadata": {},
   "outputs": [
    {
     "name": "stdout",
     "output_type": "stream",
     "text": [
      "__new__ is called\n",
      "\n",
      "__init__ is called\n",
      "\n",
      "__init__ is called\n",
      "\n",
      "<__main__.Singleton object at 0x0000026C57591310>\n",
      "<__main__.Singleton object at 0x0000026C57591310>\n"
     ]
    }
   ],
   "source": [
    "class Singleton(object):\n",
    "    def __new__(cls, *args, **kwargs):\n",
    "        if not hasattr(cls, \"_instance\"):         # Foo 클래스 객체에 _instance 속성이 없다면\n",
    "            print(\"__new__ is called\\n\")\n",
    "            cls._instance = super().__new__(cls)  # Foo 클래스의 객체를 생성하고 Foo._instance로 바인딩\n",
    "        return cls._instance                      # Foo._instance를 리턴\n",
    "\n",
    "    def __init__(self):\n",
    "        print(\"__init__ is called\\n\")\n",
    "\n",
    "\n",
    "s1 = Singleton()\n",
    "s2 = Singleton()\n",
    "#같은 주소 객체 바인딩\n",
    "print(s1)\n",
    "print(s2)"
   ]
  },
  {
   "cell_type": "code",
   "execution_count": 1,
   "metadata": {},
   "outputs": [
    {
     "name": "stdout",
     "output_type": "stream",
     "text": [
      "__new__ is called\n",
      "\n",
      "__init__ is called\n",
      "\n",
      "3\n",
      "3\n",
      "3\n"
     ]
    }
   ],
   "source": [
    "class Singleton(object):\n",
    "    def __new__(cls, *args, **kwargs):\n",
    "        if not hasattr(cls, \"_instance\"):         # Foo 클래스 객체에 _instance 속성이 없다면\n",
    "            print(\"__new__ is called\\n\")\n",
    "            cls._instance = super().__new__(cls)  # Foo 클래스의 객체를 생성하고 Foo._instance로 바인딩\n",
    "        return cls._instance                      # Foo._instance를 리턴\n",
    "\n",
    "    def __init__(self, data):\n",
    "        cls = type(self)\n",
    "        if not hasattr(cls, \"_init\"):             # Foo 클래스 객체에 _init 속성이 없다면\n",
    "            print(\"__init__ is called\\n\")\n",
    "            self.data = data\n",
    "            cls._init = True\n",
    "\n",
    "\n",
    "s1 = Singleton(3)\n",
    "s2 = Singleton(4)\n",
    "s3 = Singleton(5)\n",
    "print(s1.data)\n",
    "print(s2.data)\n",
    "print(s3.data)"
   ]
  },
  {
   "cell_type": "code",
   "execution_count": null,
   "metadata": {},
   "outputs": [],
   "source": []
  }
 ],
 "metadata": {
  "kernelspec": {
   "display_name": "Python 3.8.8 ('base')",
   "language": "python",
   "name": "python3"
  },
  "language_info": {
   "codemirror_mode": {
    "name": "ipython",
    "version": 3
   },
   "file_extension": ".py",
   "mimetype": "text/x-python",
   "name": "python",
   "nbconvert_exporter": "python",
   "pygments_lexer": "ipython3",
   "version": "3.8.8"
  },
  "orig_nbformat": 4,
  "vscode": {
   "interpreter": {
    "hash": "f08154012ddadd8e950e6e9e035c7a7b32c136e7647e9b7c77e02eb723a8bedb"
   }
  }
 },
 "nbformat": 4,
 "nbformat_minor": 2
}
