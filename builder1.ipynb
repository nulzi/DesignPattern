{
 "cells": [
  {
   "cell_type": "code",
   "execution_count": 13,
   "metadata": {},
   "outputs": [
    {
     "name": "stdout",
     "output_type": "stream",
     "text": [
      "Name: House | Floor: One | Size: Big and fancy\n",
      "Name: Motel | Floor: three | Size: small and shabby\n"
     ]
    }
   ],
   "source": [
    "##생성자가 없을 경우\n",
    "\n",
    "# 복잡한 생성 과정\n",
    "def build(cls):\n",
    "    building = cls() #객체 생성\n",
    "    building.build_name()\n",
    "    building.build_floor()\n",
    "    building.build_size()\n",
    "    return building\n",
    "\n",
    "# 객체의 표현 방법\n",
    "class Building: #builder\n",
    "    def __repr__(self):\n",
    "        #return \"Name: {0.name} | Floor: {0.floor} | Size: {0.size}\".format(self)\n",
    "        return f\"Name: {self.name} | Floor: {self.floor} | Size: {self.size}\"\n",
    "\n",
    "class House(Building): #concrete builder\n",
    "    def build_name(self):\n",
    "        self.name = \"House\"\n",
    "\n",
    "    def build_floor(self):\n",
    "        self.floor = \"One\"\n",
    "\n",
    "    def build_size(self):\n",
    "        self.size = \"Big and fancy\"\n",
    "\n",
    "class Motel(Building): #concrete builder\n",
    "    def build_name(self):\n",
    "        self.name = \"Motel\"\n",
    "        \n",
    "    def build_floor(self):\n",
    "        self.floor = \"three\"\n",
    "\n",
    "    def build_size(self):\n",
    "        self.size = \"small and shabby\"\n",
    "\n",
    "if __name__ == \"__main__\":\n",
    "    house = build(House)\n",
    "    print(house)\n",
    "    motel = build(Motel)\n",
    "    print(motel)"
   ]
  },
  {
   "cell_type": "code",
   "execution_count": 12,
   "metadata": {},
   "outputs": [
    {
     "name": "stdout",
     "output_type": "stream",
     "text": [
      "Floor: One | Size: Big\n",
      "Floor: More than One | Size: Small\n"
     ]
    }
   ],
   "source": [
    "##생성자가 없을 경우\n",
    "\n",
    "class Building:\n",
    "    def __init__(self):\n",
    "        self.build_floor()\n",
    "        self.build_size()\n",
    "\n",
    "    def build_floor(self):\n",
    "        raise NotImplementedError\n",
    "\n",
    "    def build_size(self):\n",
    "        raise NotImplementedError\n",
    "\n",
    "    def __repr__(self):\n",
    "        return \"Floor: {0.floor} | Size: {0.size}\".format(self)\n",
    "\n",
    "\n",
    "class House(Building):\n",
    "    def build_floor(self):\n",
    "        self.floor = \"One\"\n",
    "\n",
    "    def build_size(self):\n",
    "        self.size = \"Big\"\n",
    "\n",
    "\n",
    "class Flat(Building):\n",
    "    def build_floor(self):\n",
    "        self.floor = \"More than One\"\n",
    "\n",
    "    def build_size(self):\n",
    "        self.size = \"Small\"\n",
    "\n",
    "\n",
    "if __name__ == \"__main__\":\n",
    "    house = House()\n",
    "    print(house)\n",
    "    flat = Flat()\n",
    "    print(flat)"
   ]
  }
 ],
 "metadata": {
  "kernelspec": {
   "display_name": "Python 3.8.8 ('base')",
   "language": "python",
   "name": "python3"
  },
  "language_info": {
   "codemirror_mode": {
    "name": "ipython",
    "version": 3
   },
   "file_extension": ".py",
   "mimetype": "text/x-python",
   "name": "python",
   "nbconvert_exporter": "python",
   "pygments_lexer": "ipython3",
   "version": "3.8.8"
  },
  "orig_nbformat": 4,
  "vscode": {
   "interpreter": {
    "hash": "f08154012ddadd8e950e6e9e035c7a7b32c136e7647e9b7c77e02eb723a8bedb"
   }
  }
 },
 "nbformat": 4,
 "nbformat_minor": 2
}
